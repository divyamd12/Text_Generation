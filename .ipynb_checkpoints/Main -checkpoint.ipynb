{
 "cells": [
  {
   "cell_type": "code",
   "execution_count": 3,
   "id": "ffc202e2",
   "metadata": {},
   "outputs": [
    {
     "data": {
      "text/plain": [
       "'\\nText Generation Project\\nWe will use data from project gutenberg\\nBook used here is Pride and Prejudice by Jane Austen\\n\\n'"
      ]
     },
     "execution_count": 3,
     "metadata": {},
     "output_type": "execute_result"
    }
   ],
   "source": [
    "'''\n",
    "Text Generation Project\n",
    "We will use data from project gutenberg\n",
    "Book used here is Pride and Prejudice by Jane Austen\n",
    "\n",
    "'''"
   ]
  },
  {
   "cell_type": "code",
   "execution_count": 4,
   "id": "f5b47d62",
   "metadata": {},
   "outputs": [],
   "source": [
    "import tensorflow as tf\n",
    "import keras\n",
    "from keras.preprocessing.text import Tokenizer\n",
    "from tensorflow.keras.preprocessing.sequence import pad_sequences"
   ]
  },
  {
   "cell_type": "code",
   "execution_count": 5,
   "id": "f71de886",
   "metadata": {},
   "outputs": [],
   "source": [
    "import numpy as np"
   ]
  },
  {
   "cell_type": "code",
   "execution_count": 6,
   "id": "e5b9c3e8",
   "metadata": {},
   "outputs": [],
   "source": [
    "book= open('C:\\\\Users\\\\Dell\\\\Desktop\\\\ML\\\\Projects\\\\Text-Generation\\\\pg1342.txt','r',encoding='utf-8').read()\n",
    "book=book.lower()"
   ]
  },
  {
   "cell_type": "code",
   "execution_count": 7,
   "id": "2110f604",
   "metadata": {},
   "outputs": [],
   "source": [
    "sentences=book.split('\\n')"
   ]
  },
  {
   "cell_type": "code",
   "execution_count": 8,
   "id": "0d493d90",
   "metadata": {},
   "outputs": [],
   "source": [
    "tokenizer=Tokenizer(oov_token='<UNK>')"
   ]
  },
  {
   "cell_type": "code",
   "execution_count": 9,
   "id": "fa83feb6",
   "metadata": {},
   "outputs": [
    {
     "data": {
      "text/plain": [
       "7547"
      ]
     },
     "execution_count": 9,
     "metadata": {},
     "output_type": "execute_result"
    }
   ],
   "source": [
    "tokenizer.fit_on_texts(sentences)\n",
    "vocab_size= len(tokenizer.word_index)+1\n",
    "vocab_size"
   ]
  },
  {
   "cell_type": "code",
   "execution_count": 10,
   "id": "be591aa5",
   "metadata": {},
   "outputs": [],
   "source": [
    "sequences=tokenizer.texts_to_sequences(sentences)\n",
    "\n",
    "in_sequences=[]\n",
    "for sequence in sequences:\n",
    "    for i in range(1,len(sequence)):\n",
    "        n_gram_sequence=sequence[:i+1]\n",
    "        in_sequences.append(n_gram_sequence)"
   ]
  },
  {
   "cell_type": "code",
   "execution_count": 11,
   "id": "4357cc3e",
   "metadata": {},
   "outputs": [
    {
     "data": {
      "text/plain": [
       "19"
      ]
     },
     "execution_count": 11,
     "metadata": {},
     "output_type": "execute_result"
    }
   ],
   "source": [
    "max_seq_len= max([len(seq) for seq in in_sequences])\n",
    "max_seq_len"
   ]
  },
  {
   "cell_type": "code",
   "execution_count": 12,
   "id": "f8ab6d22",
   "metadata": {},
   "outputs": [
    {
     "data": {
      "text/plain": [
       "array([   0,    0,    0,    0,    0,    0,    0,    0,    0,    0,   96,\n",
       "         81, 1454,    4,    2,  219,   27,   44, 1614])"
      ]
     },
     "execution_count": 12,
     "metadata": {},
     "output_type": "execute_result"
    }
   ],
   "source": [
    "padded_seq = pad_sequences(in_sequences,maxlen=max_seq_len)\n",
    "padded_seq[30]"
   ]
  },
  {
   "cell_type": "code",
   "execution_count": 13,
   "id": "1b9c9eca",
   "metadata": {},
   "outputs": [],
   "source": [
    "padded_seq=np.array(padded_seq)\n",
    "x=padded_seq[:,:-1]\n",
    "labels=padded_seq[:,-1]"
   ]
  },
  {
   "cell_type": "code",
   "execution_count": 14,
   "id": "dd91d8bf",
   "metadata": {},
   "outputs": [
    {
     "data": {
      "text/plain": [
       "(121158, 7547)"
      ]
     },
     "execution_count": 14,
     "metadata": {},
     "output_type": "execute_result"
    }
   ],
   "source": [
    "y=tf.keras.utils.to_categorical(labels, num_classes=vocab_size)\n",
    "y.shape"
   ]
  },
  {
   "cell_type": "code",
   "execution_count": 15,
   "id": "7b952d4a",
   "metadata": {},
   "outputs": [
    {
     "data": {
      "text/plain": [
       "(121158, 18)"
      ]
     },
     "execution_count": 15,
     "metadata": {},
     "output_type": "execute_result"
    }
   ],
   "source": [
    "x.shape"
   ]
  },
  {
   "cell_type": "code",
   "execution_count": 16,
   "id": "05c4f44e",
   "metadata": {},
   "outputs": [],
   "source": [
    "#import dependencies for training the model\n",
    "from tensorflow.keras.models import Sequential \n",
    "from tensorflow.keras.layers import Bidirectional, Dense, LSTM, Embedding\n",
    "from tensorflow.keras.optimizers import Adam"
   ]
  },
  {
   "cell_type": "code",
   "execution_count": 17,
   "id": "a10c9a04",
   "metadata": {
    "scrolled": true
   },
   "outputs": [
    {
     "name": "stdout",
     "output_type": "stream",
     "text": [
      "Model: \"sequential\"\n",
      "_________________________________________________________________\n",
      " Layer (type)                Output Shape              Param #   \n",
      "=================================================================\n",
      " embedding (Embedding)       (None, 18, 100)           754700    \n",
      "                                                                 \n",
      " bidirectional (Bidirectiona  (None, 512)              731136    \n",
      " l)                                                              \n",
      "                                                                 \n",
      " dense (Dense)               (None, 7547)              3871611   \n",
      "                                                                 \n",
      "=================================================================\n",
      "Total params: 5,357,447\n",
      "Trainable params: 5,357,447\n",
      "Non-trainable params: 0\n",
      "_________________________________________________________________\n"
     ]
    }
   ],
   "source": [
    "# define the model \n",
    "\n",
    "\n",
    "model=Sequential()\n",
    "model.add(Embedding(vocab_size, 100, input_length=max_seq_len-1))\n",
    "model.add(Bidirectional(LSTM(256)))\n",
    "model.add(Dense(vocab_size, activation='softmax'))\n",
    "adam= Adam(learning_rate=0.01)\n",
    "model.compile(loss='categorical_crossentropy', optimizer=adam, metrics=['acc'])\n",
    "model.summary()"
   ]
  },
  {
   "cell_type": "code",
   "execution_count": 18,
   "id": "5e7e1d41",
   "metadata": {},
   "outputs": [],
   "source": [
    "#if there is not even 1% improvement in the accuracy, call early stopping \n",
    "from tensorflow.keras.callbacks import EarlyStopping \n",
    "es=EarlyStopping(monitor='acc',min_delta=0.001)"
   ]
  },
  {
   "cell_type": "code",
   "execution_count": 19,
   "id": "8092b51e",
   "metadata": {},
   "outputs": [
    {
     "name": "stdout",
     "output_type": "stream",
     "text": [
      "Epoch 1/10\n",
      "237/237 [==============================] - 314s 1s/step - loss: 6.0212 - acc: 0.0860\n",
      "Epoch 2/10\n",
      "237/237 [==============================] - 330s 1s/step - loss: 5.1545 - acc: 0.1444\n",
      "Epoch 3/10\n",
      "237/237 [==============================] - 305s 1s/step - loss: 4.7087 - acc: 0.1695\n",
      "Epoch 4/10\n",
      "237/237 [==============================] - 302s 1s/step - loss: 4.3116 - acc: 0.1922\n",
      "Epoch 5/10\n",
      "237/237 [==============================] - 311s 1s/step - loss: 3.9285 - acc: 0.2217\n",
      "Epoch 6/10\n",
      "237/237 [==============================] - 300s 1s/step - loss: 3.5725 - acc: 0.2567\n",
      "Epoch 7/10\n",
      "237/237 [==============================] - 329s 1s/step - loss: 3.2618 - acc: 0.2958\n",
      "Epoch 8/10\n",
      "237/237 [==============================] - 359s 2s/step - loss: 2.9882 - acc: 0.3341\n",
      "Epoch 9/10\n",
      "237/237 [==============================] - 246s 1s/step - loss: 2.7545 - acc: 0.3734\n",
      "Epoch 10/10\n",
      "237/237 [==============================] - 264s 1s/step - loss: 2.5555 - acc: 0.4067\n"
     ]
    },
    {
     "data": {
      "text/plain": [
       "<keras.callbacks.History at 0x182d4ef4b20>"
      ]
     },
     "execution_count": 19,
     "metadata": {},
     "output_type": "execute_result"
    }
   ],
   "source": [
    "#fitting the model\n",
    "\n",
    "model.fit(x,y,epochs=10, verbose=1,batch_size=512)"
   ]
  },
  {
   "cell_type": "code",
   "execution_count": 46,
   "id": "eca316f8",
   "metadata": {},
   "outputs": [
    {
     "name": "stdout",
     "output_type": "stream",
     "text": [
      "1/1 [==============================] - 0s 65ms/step\n",
      "1/1 [==============================] - 0s 48ms/step\n",
      "1/1 [==============================] - 0s 56ms/step\n",
      "1/1 [==============================] - 0s 48ms/step\n",
      "1/1 [==============================] - 0s 64ms/step\n",
      "1/1 [==============================] - 0s 53ms/step\n",
      "1/1 [==============================] - 0s 56ms/step\n",
      "1/1 [==============================] - 0s 33ms/step\n",
      "1/1 [==============================] - 0s 37ms/step\n",
      "1/1 [==============================] - 0s 57ms/step\n",
      "One of the oldest and most expert among them obtained he was absolutely incredulous here she would not be insensible\n"
     ]
    }
   ],
   "source": []
  },
  {
   "cell_type": "code",
   "execution_count": 20,
   "id": "1a12a006",
   "metadata": {
    "scrolled": true
   },
   "outputs": [
    {
     "name": "stdout",
     "output_type": "stream",
     "text": [
      "Keras weights file (<HDF5 file \"variables.h5\" (mode r+)>) saving:\n",
      "...layers\\bidirectional\n",
      "......vars\n",
      "...layers\\bidirectional\\backward_layer\n",
      "......vars\n",
      "...layers\\bidirectional\\backward_layer\\cell\n",
      "......vars\n",
      ".........0\n",
      ".........1\n",
      ".........2\n",
      "...layers\\bidirectional\\forward_layer\n",
      "......vars\n",
      "...layers\\bidirectional\\forward_layer\\cell\n",
      "......vars\n",
      ".........0\n",
      ".........1\n",
      ".........2\n",
      "...layers\\bidirectional\\layer\n",
      "......vars\n",
      "...layers\\bidirectional\\layer\\cell\n",
      "......vars\n",
      "...layers\\dense\n",
      "......vars\n",
      ".........0\n",
      ".........1\n",
      "...layers\\embedding\n",
      "......vars\n",
      ".........0\n",
      "...metrics\\mean\n",
      "......vars\n",
      ".........0\n",
      ".........1\n",
      "...metrics\\mean_metric_wrapper\n",
      "......vars\n",
      ".........0\n",
      ".........1\n",
      "...optimizer\n",
      "......vars\n",
      ".........0\n",
      ".........1\n",
      ".........10\n",
      ".........11\n",
      ".........12\n",
      ".........13\n",
      ".........14\n",
      ".........15\n",
      ".........16\n",
      ".........17\n",
      ".........18\n",
      ".........2\n",
      ".........3\n",
      ".........4\n",
      ".........5\n",
      ".........6\n",
      ".........7\n",
      ".........8\n",
      ".........9\n",
      "...vars\n",
      "Keras model archive saving:\n",
      "File Name                                             Modified             Size\n",
      "config.json                                    2023-03-08 18:49:37         2760\n",
      "metadata.json                                  2023-03-08 18:49:37           64\n",
      "variables.h5                                   2023-03-08 18:49:38     64327964\n"
     ]
    }
   ],
   "source": [
    "import pickle\n",
    "with open('model_pickle','wb') as f:\n",
    "    pickle.dump(model,f)\n",
    "\n"
   ]
  },
  {
   "cell_type": "code",
   "execution_count": null,
   "id": "a9a8e143",
   "metadata": {},
   "outputs": [],
   "source": [
    "seed_text = \"One of the oldest and most expert among them obtained\"\n",
    "next_words = 10\n",
    "\n",
    "for _ in range(next_words):\n",
    "    sequence = tokenizer.texts_to_sequences([seed_text])[0]\n",
    "    print(sequence)\n",
    "    padded = pad_sequences([sequence], maxlen=max_seq_len - 1)\n",
    "    predicted = model.predict(padded)[0]\n",
    "    predicted_word_index = np.argmax(predicted)\n",
    "    output_word = ''\n",
    "    \n",
    "    for word, index in tokenizer.word_index.items():\n",
    "        if index == predicted_word_index:\n",
    "            output_word = word\n",
    "            break\n",
    "    \n",
    "    seed_text += ' ' + output_word\n",
    "    \n",
    "print(seed_text)"
   ]
  },
  {
   "cell_type": "code",
   "execution_count": 66,
   "id": "70b9bba1",
   "metadata": {},
   "outputs": [],
   "source": [
    "# # loss and accuracy analysis \n",
    "\n",
    "# import matplotlib.pyplot as plt\n",
    "\n",
    "# history = model.history\n",
    "# print(history.history.keys())\n",
    "\n",
    "# acc = history.history['accuracy']\n",
    "# loss = history.history['loss']\n",
    "\n",
    "# epochs = range(len(acc))\n",
    "\n",
    "# plt.plot(epochs, acc, 'b', label=\"Training accuracy\")\n",
    "# plt.title(\"Training accuracy\")\n",
    "# plt.figure()\n",
    "# plt.plot(epochs, loss, 'b', label=\"Training loss\")\n",
    "# plt.title(\"Training loss\")\n",
    "# plt.legend()\n",
    "# plt.show()"
   ]
  },
  {
   "cell_type": "code",
   "execution_count": 1,
   "id": "863321f3",
   "metadata": {},
   "outputs": [],
   "source": [
    "import pickle"
   ]
  },
  {
   "cell_type": "code",
   "execution_count": null,
   "id": "e77634da",
   "metadata": {
    "scrolled": true
   },
   "outputs": [],
   "source": []
  },
  {
   "cell_type": "code",
   "execution_count": null,
   "id": "758353a4",
   "metadata": {},
   "outputs": [],
   "source": []
  }
 ],
 "metadata": {
  "kernelspec": {
   "display_name": "Python 3 (ipykernel)",
   "language": "python",
   "name": "python3"
  },
  "language_info": {
   "codemirror_mode": {
    "name": "ipython",
    "version": 3
   },
   "file_extension": ".py",
   "mimetype": "text/x-python",
   "name": "python",
   "nbconvert_exporter": "python",
   "pygments_lexer": "ipython3",
   "version": "3.9.12"
  }
 },
 "nbformat": 4,
 "nbformat_minor": 5
}
